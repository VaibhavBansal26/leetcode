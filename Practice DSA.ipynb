{
 "cells": [
  {
   "cell_type": "code",
   "execution_count": 1,
   "id": "2763c2dd",
   "metadata": {},
   "outputs": [
    {
     "data": {
      "text/plain": [
       "10100"
      ]
     },
     "execution_count": 1,
     "metadata": {},
     "output_type": "execute_result"
    }
   ],
   "source": [
    "from typing import List\n",
    "nums = [-100,-99,3,4]\n",
    "def maxProduct(nums: List[int]) -> int:\n",
    "    length = len(nums)\n",
    "    max_prod = 0\n",
    "    max_indices = (0, 0)\n",
    "    for i in range(length):\n",
    "        current_val = nums[i]\n",
    "        j = i + 1\n",
    "        while j < length:          \n",
    "            next_val = nums[j]\n",
    "            prod = current_val * next_val\n",
    "            if prod > max_prod:\n",
    "                max_vals = (nums[i], nums[j])\n",
    "                max_prod = prod\n",
    "            j += 1\n",
    "    i, j = max_vals      \n",
    "    max_prod = (i-1) * (j-1)    \n",
    "    return max_prod\n",
    "            \n",
    "maxProduct(nums)   "
   ]
  },
  {
   "cell_type": "code",
   "execution_count": null,
   "id": "dd36cae5",
   "metadata": {},
   "outputs": [],
   "source": []
  }
 ],
 "metadata": {
  "kernelspec": {
   "display_name": "Python 3 (ipykernel)",
   "language": "python",
   "name": "python3"
  },
  "language_info": {
   "codemirror_mode": {
    "name": "ipython",
    "version": 3
   },
   "file_extension": ".py",
   "mimetype": "text/x-python",
   "name": "python",
   "nbconvert_exporter": "python",
   "pygments_lexer": "ipython3",
   "version": "3.11.5"
  }
 },
 "nbformat": 4,
 "nbformat_minor": 5
}
